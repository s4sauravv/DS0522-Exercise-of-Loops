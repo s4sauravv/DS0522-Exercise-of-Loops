{
 "cells": [
  {
   "cell_type": "code",
   "execution_count": 1,
   "id": "9bef3361",
   "metadata": {},
   "outputs": [],
   "source": [
    "# Basic Eexercise of Loops.\n",
    "# I think you should start coding in vs code or pycharm its more flexible."
   ]
  },
  {
   "cell_type": "code",
   "execution_count": 8,
   "id": "bb6166b4",
   "metadata": {},
   "outputs": [
    {
     "name": "stdout",
     "output_type": "stream",
     "text": [
      "Enter a Number5\n",
      "5X1=5\n",
      "5X2=10\n",
      "5X3=15\n",
      "5X4=20\n",
      "5X5=25\n",
      "5X6=30\n",
      "5X7=35\n",
      "5X8=40\n",
      "5X9=45\n",
      "5X10=50\n"
     ]
    }
   ],
   "source": [
    "# Question 1 -Write a program to print the multiplication table of a given number using for loop.\n",
    "\n",
    "#Solution - \n",
    "\n",
    "num=int(input(\"Enter a Number\"))\n",
    "\n",
    "for i in range(1,11):\n",
    "    print(f\"{num}X{i}={num*i}\")"
   ]
  },
  {
   "cell_type": "code",
   "execution_count": 20,
   "id": "b9336bf3",
   "metadata": {},
   "outputs": [
    {
     "name": "stdout",
     "output_type": "stream",
     "text": [
      "Hello Baby Surabhi \n",
      "Hello Baby Shruti \n",
      "Hello Baby Shamiksha\n"
     ]
    }
   ],
   "source": [
    "# Question 2 - Write a program to greet all the person names stored in a list l1 and which starts with S.\n",
    "#  l1 = [“Harry”, “Sohan”, “Sachin”, “Rahul”]\n",
    "\n",
    "l1 = [\"Surabhi \",\"Ramesh\",\"Shruti \",\"Shamiksha\"]\n",
    "\n",
    "for name in l1:\n",
    "    if name.startswith(\"S\"):\n",
    "        print(\"Hello Baby\",name)"
   ]
  },
  {
   "cell_type": "code",
   "execution_count": 31,
   "id": "f3a054e8",
   "metadata": {},
   "outputs": [
    {
     "name": "stdout",
     "output_type": "stream",
     "text": [
      "Enter the number: 5\n",
      "5 x 1 = 5\n",
      "5 x 2 = 10\n",
      "5 x 3 = 15\n",
      "5 x 4 = 20\n",
      "5 x 5 = 25\n",
      "5 x 6 = 30\n",
      "5 x 7 = 35\n",
      "5 x 8 = 40\n",
      "5 x 9 = 45\n",
      "5 x 10 = 50\n"
     ]
    }
   ],
   "source": [
    "# Question 3- Write a program to print the multiplication table of a given number using while loop.\n",
    "\n",
    "#Solution-\n",
    "\n",
    "num = int(input(\"Enter the number: \"))\n",
    "count = 1\n",
    "\n",
    "while count <= 10:\n",
    "    num = num * 1\n",
    "    print(num, 'x', count, '=', num * count)\n",
    "    count += 1\n"
   ]
  },
  {
   "cell_type": "code",
   "execution_count": 50,
   "id": "90c85eaa",
   "metadata": {},
   "outputs": [
    {
     "name": "stdout",
     "output_type": "stream",
     "text": [
      "Enter a Number \n",
      "8\n",
      "It is a prime\n"
     ]
    }
   ],
   "source": [
    "#Question 4- Write a program to find whether a given number is prime or not?\n",
    "\n",
    "#Solution-\n",
    "\n",
    "num=int(input(\"Enter a Number \\n\"))\n",
    "for i in range(2,num):\n",
    "    if (num%i)==0:\n",
    "        print(\"It is a prime\")\n",
    "        break\n",
    "    else:\n",
    "        print(\"Please Try again with different number\")\n",
    "        break\n",
    "    "
   ]
  },
  {
   "cell_type": "code",
   "execution_count": null,
   "id": "05ffa33c",
   "metadata": {},
   "outputs": [],
   "source": [
    "#Question 5- Write a program to find the sum of first n natural numbers using a while loop."
   ]
  },
  {
   "cell_type": "code",
   "execution_count": 24,
   "id": "3a5d4cc9",
   "metadata": {},
   "outputs": [
    {
     "name": "stdout",
     "output_type": "stream",
     "text": [
      "Enter Your Number4\n",
      "Your Sum of all natural number is  10\n"
     ]
    }
   ],
   "source": [
    "#Solution\n",
    "\n",
    "num=int(input(\"Enter Your Number\"))\n",
    "answer=0\n",
    "i=1\n",
    "while i<=num:\n",
    "    answer=answer+i\n",
    "    i=i+1\n",
    "print(\"Your Sum of all natural number is \" ,answer)    "
   ]
  },
  {
   "cell_type": "code",
   "execution_count": 31,
   "id": "1cbedeb3",
   "metadata": {},
   "outputs": [
    {
     "name": "stdout",
     "output_type": "stream",
     "text": [
      "Enter Number Here Please, 4\n",
      "The Factorial of 4 is 24\n"
     ]
    }
   ],
   "source": [
    "# Question 8- Write a program to calculate the factorial of a given number using for loop.\n",
    "\n",
    "#Solution:-\n",
    "num=int(input(\"Enter Number Here Please, \"))\n",
    "factorial =1 \n",
    "for i in range(1,num+1):\n",
    "    factorial=factorial*i\n",
    "print(f\"The Factorial of {num} is {factorial}\")    \n"
   ]
  },
  {
   "cell_type": "code",
   "execution_count": 42,
   "id": "c5469de5",
   "metadata": {},
   "outputs": [
    {
     "name": "stdout",
     "output_type": "stream",
     "text": [
      "Enter Your Number Here4\n",
      "Multiplication in reverse pattern 40\n",
      "Multiplication in reverse pattern 36\n",
      "Multiplication in reverse pattern 32\n",
      "Multiplication in reverse pattern 28\n",
      "Multiplication in reverse pattern 24\n",
      "Multiplication in reverse pattern 20\n",
      "Multiplication in reverse pattern 16\n",
      "Multiplication in reverse pattern 12\n",
      "Multiplication in reverse pattern 8\n",
      "Multiplication in reverse pattern 4\n"
     ]
    }
   ],
   "source": [
    "#Question 9 :Write a program to calculate the factorial of a given number using for loop.\n",
    "\n",
    "\n",
    "#Soltuion=\n",
    "\n",
    "num=int(input(\"Enter Your Number Here\"))\n",
    "\n",
    "for i in range(10,0,-1):\n",
    "    print(\"Multiplication in reverse pattern\" , i*num )"
   ]
  },
  {
   "cell_type": "code",
   "execution_count": 50,
   "id": "37b441f6",
   "metadata": {},
   "outputs": [
    {
     "name": "stdout",
     "output_type": "stream",
     "text": [
      "*\n",
      "**\n",
      "***\n"
     ]
    }
   ],
   "source": [
    "#Question 10 - Write a program to print the following star pattern.\n",
    "#*\n",
    "#**\n",
    "#*** for n = 3\n",
    "\n",
    "\n",
    "#Solution\n",
    "\n",
    "num=3\n",
    "\n",
    "for i in range(3):\n",
    "    print(\"*\" * (i+1))\n",
    "\n"
   ]
  },
  {
   "cell_type": "code",
   "execution_count": null,
   "id": "a3045135",
   "metadata": {},
   "outputs": [],
   "source": [
    "#Student of Data science\n",
    "#Student of DataTrained - Saurav\n",
    "\n",
    "# Data- 12 june 2022"
   ]
  }
 ],
 "metadata": {
  "kernelspec": {
   "display_name": "Python 3 (ipykernel)",
   "language": "python",
   "name": "python3"
  },
  "language_info": {
   "codemirror_mode": {
    "name": "ipython",
    "version": 3
   },
   "file_extension": ".py",
   "mimetype": "text/x-python",
   "name": "python",
   "nbconvert_exporter": "python",
   "pygments_lexer": "ipython3",
   "version": "3.9.12"
  }
 },
 "nbformat": 4,
 "nbformat_minor": 5
}
